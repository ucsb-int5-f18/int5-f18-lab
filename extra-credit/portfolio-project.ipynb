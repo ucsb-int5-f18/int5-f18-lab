{
 "cells": [
  {
   "cell_type": "markdown",
   "metadata": {},
   "source": [
    "## Welcome to the Portfolio Project!\n",
    "\n",
    "Think of this project as a very first step in building your portfolio that showcases your work, skills, and interests. All code that you submit as part of this project should use the skills that you learned in this class, i.e., _we will **not** accept projects written using Pandas or advanced Python code_.\n",
    "\n",
    "If your project is really well-written, we will consider adapting it into a lab format in future iterations of this course (this acknowledgment could later be added to your portfolio). Do not hesitate to contact the instructor through Piazza for feedback on your notebook, before you submit it.\n",
    "\n",
    "The following article provides some helpful guidelines to consider when assembling your notebook. I recommend reading it before you start on the project: [A Data Science Project Style Guide\n",
    "from Dataquest](https://www.dataquest.io/blog/data-science-project-style-guide).\n",
    "\n",
    "Additionally, the following article demonstrates the type of work I expect you to do for this project: [Building a data science portfolio: Storytelling with data](https://www.dataquest.io/blog/data-science-portfolio-project). \"One of the most critical skills in data science is being able to tell an effective story using data. ...\n",
    "A story in the data science context is **a narrative around what you found, how you found it, and what it means**.\"\n",
    "\n",
    "\n",
    "Since this is supposed to help you build your portfolio, this project should be an individual effort. You may discuss your ideas with your classmates and ask for help, but you should write the code yourself and submit your work individually.\n",
    "\n",
    "Feel free to modify this notebook and add your context and code below.\n",
    "Submit your work by December 15, 2018 at 1PM.\n",
    "\n",
    "Before you submit your notebook, clear all output (`Kernel -> Restart & Clear Output`) and then run all cells (`Cell -> Run All`). Make sure there are no errors and that the output looks fine.\n",
    "\n",
    "To get started, load `datascience`, `numpy`, `plots`, and `ok`."
   ]
  },
  {
   "cell_type": "code",
   "execution_count": null,
   "metadata": {},
   "outputs": [],
   "source": [
    "# These lines import the Numpy and Datascience modules.\n",
    "import numpy as np\n",
    "from datascience import *\n",
    "\n",
    "# These lines do some fancy plotting magic.\n",
    "import matplotlib\n",
    "%matplotlib inline\n",
    "import matplotlib.pyplot as plots\n",
    "plots.style.use('fivethirtyeight')\n",
    "\n",
    "# These lines help load your submission for grading.\n",
    "from client.api.notebook import Notebook\n",
    "ok = Notebook('portfolio-project.ok')\n",
    "#_ = ok.auth(inline=True)"
   ]
  },
  {
   "cell_type": "markdown",
   "metadata": {},
   "source": [
    "\n",
    "### Introduction\n",
    "\n",
    "In addition to a good title, write an introduction that explains\n",
    "* the motivation for the project,\n",
    "* a description of the research question or your hypothesis,\n",
    "* the initial goal for the exploration and data analysis,\n",
    "* a list of data sources with _links to the CSV files_,\n",
    "* questions that you would like to explore.\n",
    "\n",
    "You need to use real-world data for your project. You can also create a simulation. Two example websites that have a lot of datasets are [Kaggle](https://www.kaggle.com/datasets) and the [UCI Machine Learning Repository](https://archive.ics.uci.edu/ml/datasets.html).\n",
    "\n",
    "The complexity of your project and the subsequent work you put into it will determine the amount of points your work will receive.\n",
    "\n",
    "\n",
    "### Exploratory Data Analysis (EDA)\n",
    "\n",
    "You should be able to go through your data and explain what is stored in each column and which columns are relevant to your question/hypothesis. As you are visualizing the data, clearly list your additional questions/hypotheses that come up.\n",
    "\n",
    "Make sure to include visualizations for your projects.\n",
    "\n",
    "### Conclusion\n",
    "\n",
    "What was the outcome of EDA? What questions are still left unanswered?"
   ]
  },
  {
   "cell_type": "code",
   "execution_count": null,
   "metadata": {},
   "outputs": [],
   "source": []
  },
  {
   "cell_type": "code",
   "execution_count": null,
   "metadata": {},
   "outputs": [],
   "source": []
  },
  {
   "cell_type": "code",
   "execution_count": null,
   "metadata": {},
   "outputs": [],
   "source": []
  },
  {
   "cell_type": "code",
   "execution_count": null,
   "metadata": {},
   "outputs": [],
   "source": []
  },
  {
   "cell_type": "code",
   "execution_count": null,
   "metadata": {},
   "outputs": [],
   "source": []
  },
  {
   "cell_type": "code",
   "execution_count": null,
   "metadata": {},
   "outputs": [],
   "source": []
  },
  {
   "cell_type": "code",
   "execution_count": null,
   "metadata": {},
   "outputs": [],
   "source": []
  },
  {
   "cell_type": "code",
   "execution_count": null,
   "metadata": {},
   "outputs": [],
   "source": []
  },
  {
   "cell_type": "code",
   "execution_count": null,
   "metadata": {},
   "outputs": [],
   "source": []
  },
  {
   "cell_type": "code",
   "execution_count": null,
   "metadata": {},
   "outputs": [],
   "source": []
  },
  {
   "cell_type": "code",
   "execution_count": null,
   "metadata": {},
   "outputs": [],
   "source": [
    "_ = ok.submit()"
   ]
  }
 ],
 "metadata": {
  "kernelspec": {
   "display_name": "Python 3",
   "language": "python",
   "name": "python3"
  },
  "language_info": {
   "codemirror_mode": {
    "name": "ipython",
    "version": 3
   },
   "file_extension": ".py",
   "mimetype": "text/x-python",
   "name": "python",
   "nbconvert_exporter": "python",
   "pygments_lexer": "ipython3",
   "version": "3.6.5"
  }
 },
 "nbformat": 4,
 "nbformat_minor": 2
}
